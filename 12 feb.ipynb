{
 "cells": [
  {
   "cell_type": "raw",
   "id": "0b46769d-b4cc-44ca-9346-785650080939",
   "metadata": {},
   "source": [
    "ANS 1 :)\n",
    "Exception in python :- \n",
    "An exception is an event, which occurs during the execution of a program that disrupts the normal flow    of the program's instructions.\n",
    "\n",
    "difference between exception and syntax error :-\n",
    "Exception :- When in the runtime an error that occurs after passing the syntax test is called exception or logical type. For example, when we divide any number by zero then the ZeroDivisionError exception is raised, or when we import a module that does not exist then ImportError is raised.\n",
    "\n",
    "syntax error :-   \n",
    "    When the proper syntax of the language is not followed then a syntax error is thrown.\n",
    "    "
   ]
  },
  {
   "cell_type": "raw",
   "id": "44f02869-4855-42d9-a3b8-064be4a04159",
   "metadata": {},
   "source": [
    "ANS 2 :) \n",
    "    when exception is not handle then the runtime system will abort the program (i.e. crash) and an exception message will print to the console.\n",
    "    \n",
    "    example :)\n",
    "            try :\n",
    "            f = open(\"test.txt\" , \"r\")\n",
    "            except Exception as e :\n",
    "            print(\"this is my except block\" , e)\n"
   ]
  },
  {
   "cell_type": "raw",
   "id": "ddad6488-43bc-49a6-98fe-2dd184a65045",
   "metadata": {},
   "source": [
    "ANS 3 : ) \n",
    "         try and except block in Python is used to catch and handle exceptions."
   ]
  },
  {
   "cell_type": "raw",
   "id": "5e32c70a-b2f4-4fea-8d24-7e835cfc95bb",
   "metadata": {},
   "source": [
    "ANS 4 :) \n",
    " EXPLAIN WITH AN EXAMPLE :\n",
    " A ) TRY AND ELSE \n",
    "     The try block lets you test a block of code for errors.\n",
    "    The else block lets you execute code when there is no error.\n",
    "B) finally \n",
    " if ther is any exception or not the finally is always executed \n",
    "\n",
    "C) RAISE \n",
    "    The raise keyword is used to raise an exception. You can define what kind of error to raise, and the text to print to the user.\n",
    "         \n",
    "         "
   ]
  },
  {
   "cell_type": "raw",
   "id": "fd28c340-848e-495d-a2b0-23001375d320",
   "metadata": {},
   "source": [
    "ANS 5 \n",
    "    a programmer needs to create his own exceptions and raise explicitly for corresponding scenarios. Such types of exceptions are called customized Exceptions or Programmatic Exceptions. We can raise a custom exception by using the keyword 'raise'.\n",
    "    \n",
    "    example :)\n",
    "    \n",
    "            class invalid_price(Exception) :\n",
    "\n",
    "                def __init__(self , msg):\n",
    "                    self.msg =msg\n",
    "                    \n",
    "             \n",
    "             def super_car(price) :\n",
    "                     if price < 0  :\n",
    "                         raise invalid_price(\"price enter is negative which is not possible\")\n",
    "                     elif price > 256132157 :\n",
    "                          raise invalid_price(\"price is much higher which is also not possible \")\n",
    "                      else :\n",
    "                  print(\"correct range of price \")\n",
    "                  \n",
    "                  \n",
    "              \n",
    "              try :\n",
    "              \n",
    "                  price = int(input(\"enter the price of super car\"))\n",
    "                  super_car(price)\n",
    "                  \n",
    "              except invalid_price as e :\n",
    "              print(\"this is invalid price \" , e)\n",
    "              \n",
    "            \n",
    "            \n",
    "            "
   ]
  },
  {
   "cell_type": "raw",
   "id": "fd5f88c9-64c2-4d63-b4d8-45033c8968e6",
   "metadata": {},
   "source": [
    "ANS 6 :) \n",
    "\n",
    "    class height_of_humans(Exception) :\n",
    "\n",
    "                def __init__(self , msg):\n",
    "                    self.msg =msg\n",
    "                    \n",
    "             \n",
    "             def human_height(height) :\n",
    "                     if height < 0  :\n",
    "                         raise invalid_price(\"height enter is negative which is not possible\")\n",
    "                     elif height > 10 :\n",
    "                          raise invalid_price(\"height is much higher which is also not possible \")\n",
    "                      else :\n",
    "                  print(\"correct range of height \")\n",
    "                  \n",
    "                  \n",
    "              \n",
    "              try :\n",
    "              \n",
    "                  height = int(input(\"enter the price of super car\"))\n",
    "                  super_car(price)\n",
    "                  \n",
    "              except invalid_price as e :\n",
    "              print(\"this is invalid price \" , e)\n",
    "    "
   ]
  }
 ],
 "metadata": {
  "kernelspec": {
   "display_name": "Python 3 (ipykernel)",
   "language": "python",
   "name": "python3"
  },
  "language_info": {
   "codemirror_mode": {
    "name": "ipython",
    "version": 3
   },
   "file_extension": ".py",
   "mimetype": "text/x-python",
   "name": "python",
   "nbconvert_exporter": "python",
   "pygments_lexer": "ipython3",
   "version": "3.10.8"
  }
 },
 "nbformat": 4,
 "nbformat_minor": 5
}
